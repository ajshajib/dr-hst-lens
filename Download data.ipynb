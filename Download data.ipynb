{
 "cells": [
  {
   "cell_type": "markdown",
   "metadata": {},
   "source": [
    "    Author: Anowar J. Shajib (ajshajib@astro.ucla.edu)\n",
    "    Last updated: April 17, 2019"
   ]
  },
  {
   "cell_type": "markdown",
   "metadata": {},
   "source": [
    "## Setup"
   ]
  },
  {
   "cell_type": "code",
   "execution_count": 1,
   "metadata": {},
   "outputs": [],
   "source": [
    "import glob\n",
    "import os\n",
    "import shutil\n",
    "\n",
    "from astroquery.mast import Observations"
   ]
  },
  {
   "cell_type": "markdown",
   "metadata": {},
   "source": [
    "Here, I am downloading the IR and UVIS data for the lens system DES J2038-4008 from the *HST*-GO-15320."
   ]
  },
  {
   "cell_type": "markdown",
   "metadata": {},
   "source": [
    "# IR"
   ]
  },
  {
   "cell_type": "code",
   "execution_count": 9,
   "metadata": {
    "scrolled": false
   },
   "outputs": [],
   "source": [
    "download_dir = \"../raw_data/F160W/\"\n",
    "\n",
    "obs_table = Observations.query_criteria(\n",
    "    proposal_id=\"15320\", target_name=\"DESJ2038-4008\", filters=\"F160W\", obstype=\"all\"\n",
    ")\n",
    "\n",
    "download_tab = Observations.download_products(\n",
    "    obs_table[\"obsid\"],\n",
    "    mrp_only=False,\n",
    "    download_dir=download_dir,\n",
    "    productSubGroupDescription=[\"FLT\"],\n",
    ")\n",
    "\n",
    "science_files = glob.glob(\n",
    "    os.path.join(os.curdir, download_dir, \"mastDownload\", \"HST\", \"*\", \"*fits\")\n",
    ")\n",
    "\n",
    "for im in science_files:\n",
    "    root = im.split(\"/\")[-1]\n",
    "    os.rename(im, download_dir + root)\n",
    "\n",
    "shutil.rmtree(download_dir + \"mastDownload\")"
   ]
  },
  {
   "cell_type": "markdown",
   "metadata": {},
   "source": [
    "## UVIS"
   ]
  },
  {
   "cell_type": "code",
   "execution_count": 13,
   "metadata": {
    "scrolled": false
   },
   "outputs": [
    {
     "name": "stdout",
     "output_type": "stream",
     "text": [
      "Downloading URL https://mast.stsci.edu/api/v0.1/Download/file?uri=mast:HST/product/idgc08i7q_flc.fits to ../raw_data/F814W/mastDownload/HST/idgc08i7q/idgc08i7q_flc.fits ... [Done]\n",
      "Downloading URL https://mast.stsci.edu/api/v0.1/Download/file?uri=mast:HST/product/idgc08i7q_flt.fits to ../raw_data/F814W/mastDownload/HST/idgc08i7q/idgc08i7q_flt.fits ... [Done]\n",
      "Downloading URL https://mast.stsci.edu/api/v0.1/Download/file?uri=mast:HST/product/idgc08i8q_flc.fits to ../raw_data/F814W/mastDownload/HST/idgc08i8q/idgc08i8q_flc.fits ... [Done]\n",
      "Downloading URL https://mast.stsci.edu/api/v0.1/Download/file?uri=mast:HST/product/idgc08i8q_flt.fits to ../raw_data/F814W/mastDownload/HST/idgc08i8q/idgc08i8q_flt.fits ... [Done]\n",
      "Downloading URL https://mast.stsci.edu/api/v0.1/Download/file?uri=mast:HST/product/idgc08iaq_flc.fits to ../raw_data/F814W/mastDownload/HST/idgc08iaq/idgc08iaq_flc.fits ... [Done]\n",
      "Downloading URL https://mast.stsci.edu/api/v0.1/Download/file?uri=mast:HST/product/idgc08iaq_flt.fits to ../raw_data/F814W/mastDownload/HST/idgc08iaq/idgc08iaq_flt.fits ... [Done]\n",
      "Downloading URL https://mast.stsci.edu/api/v0.1/Download/file?uri=mast:HST/product/idgc08ibq_flc.fits to ../raw_data/F814W/mastDownload/HST/idgc08ibq/idgc08ibq_flc.fits ... [Done]\n",
      "Downloading URL https://mast.stsci.edu/api/v0.1/Download/file?uri=mast:HST/product/idgc08ibq_flt.fits to ../raw_data/F814W/mastDownload/HST/idgc08ibq/idgc08ibq_flt.fits ... [Done]\n"
     ]
    }
   ],
   "source": [
    "download_dir = \"../raw_data/F814W/\"\n",
    "\n",
    "obs_table = Observations.query_criteria(\n",
    "    proposal_id=\"15320\", target_name=\"DESJ2038-4008\", filters=\"F814W\", obstype=\"all\"\n",
    ")\n",
    "\n",
    "download_tab = Observations.download_products(\n",
    "    obs_table[\"obsid\"],\n",
    "    mrp_only=False,\n",
    "    download_dir=download_dir,\n",
    "    productSubGroupDescription=[\"FLC\", \"FLT\"],\n",
    ")\n",
    "\n",
    "science_files = glob.glob(\n",
    "    os.path.join(os.curdir, download_dir, \"mastDownload\", \"HST\", \"*\", \"*fits\")\n",
    ")\n",
    "\n",
    "for im in science_files:\n",
    "    shutil.copy2(im, download_dir)\n",
    "\n",
    "shutil.rmtree(download_dir + \"mastDownload\")"
   ]
  },
  {
   "cell_type": "code",
   "execution_count": 14,
   "metadata": {},
   "outputs": [
    {
     "name": "stdout",
     "output_type": "stream",
     "text": [
      "Downloading URL https://mast.stsci.edu/api/v0.1/Download/file?uri=mast:HST/product/idgc08i4q_flc.fits to ../raw_data/F475X/mastDownload/HST/idgc08i4q/idgc08i4q_flc.fits ... [Done]\n",
      "Downloading URL https://mast.stsci.edu/api/v0.1/Download/file?uri=mast:HST/product/idgc08i4q_flt.fits to ../raw_data/F475X/mastDownload/HST/idgc08i4q/idgc08i4q_flt.fits ... [Done]\n",
      "Downloading URL https://mast.stsci.edu/api/v0.1/Download/file?uri=mast:HST/product/idgc08i5q_flc.fits to ../raw_data/F475X/mastDownload/HST/idgc08i5q/idgc08i5q_flc.fits ... [Done]\n",
      "Downloading URL https://mast.stsci.edu/api/v0.1/Download/file?uri=mast:HST/product/idgc08i5q_flt.fits to ../raw_data/F475X/mastDownload/HST/idgc08i5q/idgc08i5q_flt.fits ... [Done]\n",
      "Downloading URL https://mast.stsci.edu/api/v0.1/Download/file?uri=mast:HST/product/idgc08idq_flc.fits to ../raw_data/F475X/mastDownload/HST/idgc08idq/idgc08idq_flc.fits ... [Done]\n",
      "Downloading URL https://mast.stsci.edu/api/v0.1/Download/file?uri=mast:HST/product/idgc08idq_flt.fits to ../raw_data/F475X/mastDownload/HST/idgc08idq/idgc08idq_flt.fits ... [Done]\n",
      "Downloading URL https://mast.stsci.edu/api/v0.1/Download/file?uri=mast:HST/product/idgc08ifq_flc.fits to ../raw_data/F475X/mastDownload/HST/idgc08ifq/idgc08ifq_flc.fits ... [Done]\n",
      "Downloading URL https://mast.stsci.edu/api/v0.1/Download/file?uri=mast:HST/product/idgc08ifq_flt.fits to ../raw_data/F475X/mastDownload/HST/idgc08ifq/idgc08ifq_flt.fits ... [Done]\n"
     ]
    }
   ],
   "source": [
    "download_dir = \"../raw_data/F475X/\"\n",
    "\n",
    "obs_table = Observations.query_criteria(\n",
    "    proposal_id=\"15320\", target_name=\"DESJ2038-4008\", filters=\"F475X\", obstype=\"all\"\n",
    ")\n",
    "\n",
    "download_tab = Observations.download_products(\n",
    "    obs_table[\"obsid\"],\n",
    "    mrp_only=False,\n",
    "    download_dir=download_dir,\n",
    "    productSubGroupDescription=[\"FLC\", \"FLT\"],\n",
    ")\n",
    "\n",
    "science_files = glob.glob(\n",
    "    os.path.join(os.curdir, download_dir, \"mastDownload\", \"HST\", \"*\", \"*fits\")\n",
    ")\n",
    "\n",
    "for im in science_files:\n",
    "    root = im.split(\"/\")[-1]\n",
    "    os.rename(im, download_dir + root)\n",
    "\n",
    "shutil.rmtree(download_dir + \"mastDownload\")"
   ]
  }
 ],
 "metadata": {
  "kernelspec": {
   "display_name": "Python 3",
   "language": "python",
   "name": "python3"
  },
  "language_info": {
   "codemirror_mode": {
    "name": "ipython",
    "version": 3
   },
   "file_extension": ".py",
   "mimetype": "text/x-python",
   "name": "python",
   "nbconvert_exporter": "python",
   "pygments_lexer": "ipython3",
   "version": "3.7.3"
  }
 },
 "nbformat": 4,
 "nbformat_minor": 2
}
